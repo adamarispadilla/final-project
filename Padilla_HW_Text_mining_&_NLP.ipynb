{
  "nbformat": 4,
  "nbformat_minor": 0,
  "metadata": {
    "colab": {
      "provenance": [],
      "collapsed_sections": [],
      "include_colab_link": true
    },
    "kernelspec": {
      "name": "python3",
      "display_name": "Python 3"
    },
    "language_info": {
      "name": "python"
    }
  },
  "cells": [
    {
      "cell_type": "markdown",
      "metadata": {
        "id": "view-in-github",
        "colab_type": "text"
      },
      "source": [
        "<a href=\"https://colab.research.google.com/github/adamarispadilla/final-project/blob/main/Padilla_HW_Text_mining_%26_NLP.ipynb\" target=\"_parent\"><img src=\"https://colab.research.google.com/assets/colab-badge.svg\" alt=\"Open In Colab\"/></a>"
      ]
    },
    {
      "cell_type": "markdown",
      "source": [
        "## **Tokenization**"
      ],
      "metadata": {
        "id": "BTQYWyhQ4KFW"
      }
    },
    {
      "cell_type": "code",
      "source": [
        "## imports a library that has a collection of algorithms that are often \n",
        "## used for natural language processing applications\n",
        "import nltk \n",
        "\n",
        "## This divides a text into sentences\n",
        "nltk.download('punkt')\n"
      ],
      "metadata": {
        "id": "-iqUdPP_hPSg",
        "colab": {
          "base_uri": "https://localhost:8080/"
        },
        "outputId": "38d1e2ba-1ff6-428e-9859-ae6a589615db"
      },
      "execution_count": null,
      "outputs": [
        {
          "output_type": "stream",
          "name": "stdout",
          "text": [
            "[nltk_data] Downloading package punkt to /root/nltk_data...\n",
            "[nltk_data]   Package punkt is already up-to-date!\n"
          ]
        },
        {
          "output_type": "execute_result",
          "data": {
            "text/plain": [
              "True"
            ]
          },
          "metadata": {},
          "execution_count": 4
        }
      ]
    },
    {
      "cell_type": "code",
      "source": [
        "## tokenize means breaking a large text into smaller pieces\n",
        "from nltk import tokenize\n",
        "from nltk.tokenize import sent_tokenize\n",
        "myString = \"I am watching Criminal Minds. This is my favorite show. I think it's very interesting!\"\n",
        "\n",
        "## This function breaks down the text by sentences \n",
        "tokenized_sentence = sent_tokenize(myString)                                   \n",
        "print(tokenized_sentence)\n"
      ],
      "metadata": {
        "id": "7Kcc-316kBMe",
        "colab": {
          "base_uri": "https://localhost:8080/"
        },
        "outputId": "5a2e6d3f-46a4-463f-b42e-5be94fb08d35"
      },
      "execution_count": null,
      "outputs": [
        {
          "output_type": "stream",
          "name": "stdout",
          "text": [
            "['I am watching Criminal Minds.', 'This is my favorite show.', \"I think it's very interesting!\"]\n"
          ]
        }
      ]
    },
    {
      "cell_type": "code",
      "source": [
        "from nltk.tokenize import sent_tokenize\n",
        "myString=\"My favorite app to use is twitter. My second favorite app is instagram.\"\n",
        "## This function breaks down the text by words\n",
        "print(myString.split())\n"
      ],
      "metadata": {
        "id": "K8uzGxe-lS23",
        "colab": {
          "base_uri": "https://localhost:8080/"
        },
        "outputId": "542fb293-6f07-4421-a4a0-c3a20ab65a21"
      },
      "execution_count": null,
      "outputs": [
        {
          "output_type": "stream",
          "name": "stdout",
          "text": [
            "['My', 'favorite', 'app', 'to', 'use', 'is', 'twitter.', 'My', 'second', 'favorite', 'app', 'is', 'instagram.']\n"
          ]
        }
      ]
    },
    {
      "cell_type": "code",
      "source": [
        "from nltk.tokenize import word_tokenize, regexp_tokenize\n",
        "myString=\"There are 7 days in a week. There are 24 hours in a day.\"\n",
        "\n",
        "##Word_tokenize breakdown to words\n",
        "print(word_tokenize(myString))\n",
        "\n",
        "##The \\w+ returns words and digits, but symbols will be ignored\n",
        "print(regexp_tokenize(myString, pattern=\"\\w+\"))\n",
        "\n",
        "##The \\d+ returns digits only\n",
        "print(regexp_tokenize(myString, pattern=\"\\d+\"))\n"
      ],
      "metadata": {
        "id": "r8zwXF0-sKmZ",
        "colab": {
          "base_uri": "https://localhost:8080/"
        },
        "outputId": "0741444d-9717-46bb-d162-48275abec275"
      },
      "execution_count": null,
      "outputs": [
        {
          "output_type": "stream",
          "name": "stdout",
          "text": [
            "['There', 'are', '7', 'days', 'in', 'a', 'week', '.', 'There', 'are', '24', 'hours', 'in', 'a', 'day', '.']\n",
            "['There', 'are', '7', 'days', 'in', 'a', 'week', 'There', 'are', '24', 'hours', 'in', 'a', 'day']\n",
            "['7', '24']\n"
          ]
        }
      ]
    },
    {
      "cell_type": "markdown",
      "source": [
        "## **Stemming**"
      ],
      "metadata": {
        "id": "a-gn7hzh4WuQ"
      }
    },
    {
      "cell_type": "code",
      "source": [
        "##Stemming removes the last few characters of a word.\n",
        "\n",
        "##Porter is a Stemming function that cuts down to the root. \n",
        "##This is the least aggressive.\n",
        "\n",
        "from nltk.stem import PorterStemmer\n",
        "porter=PorterStemmer()\n",
        "print(porter.stem(\"popping\"))\n",
        "\n",
        "##For example, popping becomes pop meaning that the\n",
        "## -ping ending was removed.\n"
      ],
      "metadata": {
        "id": "r4Jj2ri35s1q",
        "colab": {
          "base_uri": "https://localhost:8080/"
        },
        "outputId": "bbbcc651-bca2-4516-b717-0bd10d7e22da"
      },
      "execution_count": null,
      "outputs": [
        {
          "output_type": "stream",
          "name": "stdout",
          "text": [
            "pop\n"
          ]
        }
      ]
    },
    {
      "cell_type": "code",
      "source": [
        "##Lancaster is a Stemming function that cuts down to the root. \n",
        "##This is in between aggressive and least aggressive.\n",
        "\n",
        "from nltk.stem import LancasterStemmer\n",
        "lancaster=LancasterStemmer()\n",
        "print(lancaster.stem(\"locking\"))\n",
        "\n",
        "##For example, locking becomes lock meaning that the -ing ending was removed.\n"
      ],
      "metadata": {
        "id": "ZfM6K0fOC873",
        "colab": {
          "base_uri": "https://localhost:8080/"
        },
        "outputId": "45b662ab-1fe5-4d47-832c-fe596934709e"
      },
      "execution_count": null,
      "outputs": [
        {
          "output_type": "stream",
          "name": "stdout",
          "text": [
            "lock\n"
          ]
        }
      ]
    },
    {
      "cell_type": "code",
      "source": [
        "#Stemming function that cuts down to the root. This is the most aggressive.\n",
        "from nltk.stem.snowball import SnowballStemmer\n",
        "snowball=SnowballStemmer(\"english\")\n",
        "print(snowball.stem(\"awake\"))\n"
      ],
      "metadata": {
        "id": "uQxFxmxYD75D",
        "colab": {
          "base_uri": "https://localhost:8080/"
        },
        "outputId": "9b7c300b-04ba-4eae-9767-44ef804f2a39"
      },
      "execution_count": null,
      "outputs": [
        {
          "output_type": "stream",
          "name": "stdout",
          "text": [
            "awak\n"
          ]
        }
      ]
    },
    {
      "cell_type": "markdown",
      "source": [
        "## **Lemmatization**"
      ],
      "metadata": {
        "id": "rBSqTz0A4dEi"
      }
    },
    {
      "cell_type": "code",
      "source": [
        "##imports Lemmatization function which converts the \n",
        "##word to its meaningful base form\n",
        "\n",
        "import nltk\n",
        "from nltk.stem import WordNetLemmatizer\n",
        "\n",
        "nltk.download('wordnet')\n",
        "lemma=WordNetLemmatizer()\n",
        "print(lemma.lemmatize(\"flowers\"))\n",
        "print(lemma.lemmatize(\"countries\"))\n",
        "print(lemma.lemmatize(\"mice\"))\n",
        "print(lemma.lemmatize(\"cities\"))\n",
        "print(lemma.lemmatize(\"boys\"))\n"
      ],
      "metadata": {
        "id": "D3s1ywVjuUcA",
        "colab": {
          "base_uri": "https://localhost:8080/"
        },
        "outputId": "96507bb9-e5a1-4e4f-9625-7f630185e414"
      },
      "execution_count": null,
      "outputs": [
        {
          "output_type": "stream",
          "name": "stdout",
          "text": [
            "[nltk_data] Downloading package wordnet to /root/nltk_data...\n",
            "[nltk_data]   Package wordnet is already up-to-date!\n",
            "flower\n",
            "country\n",
            "mouse\n",
            "city\n",
            "boy\n"
          ]
        }
      ]
    },
    {
      "cell_type": "markdown",
      "source": [
        "## **Stop Word Removal** "
      ],
      "metadata": {
        "id": "g5bPsQke4kl9"
      }
    },
    {
      "cell_type": "code",
      "source": [
        "##Imports stopwords function that removes words that are not \n",
        "##important like 'the', 'a', etc. These are considered \n",
        "##\"background noises.\"\n",
        "\n",
        "import nltk\n",
        "from nltk.corpus import stopwords\n",
        "\n",
        "nltk.download('stopwords')\n",
        "mylist=stopwords.words('english')\n",
        "paragraph=\"This stop word removal function removes words like a or is. It is pretty handy in removing words that hold little value to the sentence.\"\n",
        "postPa=[word for word in paragraph.split() if word not in mylist]\n",
        "print(postPa)\n"
      ],
      "metadata": {
        "id": "u16GKPu_NHxh",
        "colab": {
          "base_uri": "https://localhost:8080/"
        },
        "outputId": "a1f59edf-c200-4e26-91fa-cc40a97203e7"
      },
      "execution_count": null,
      "outputs": [
        {
          "output_type": "stream",
          "name": "stdout",
          "text": [
            "[nltk_data] Downloading package stopwords to /root/nltk_data...\n",
            "[nltk_data]   Package stopwords is already up-to-date!\n",
            "['This', 'stop', 'word', 'removal', 'function', 'removes', 'words', 'like', 'is.', 'It', 'pretty', 'handy', 'removing', 'words', 'hold', 'little', 'value', 'sentence.']\n"
          ]
        }
      ]
    },
    {
      "cell_type": "markdown",
      "source": [
        "## **Convert to upper or lowercase**"
      ],
      "metadata": {
        "id": "Z-bAOQrV6H85"
      }
    },
    {
      "cell_type": "code",
      "source": [
        "myString = \"CAN YOU HELP ME?\"\n",
        "##This function makes the text lowercase.\n",
        "str1=myString.lower()\n",
        "print(str1)\n"
      ],
      "metadata": {
        "id": "YhCh3U3VwkxR",
        "colab": {
          "base_uri": "https://localhost:8080/"
        },
        "outputId": "cd77c842-53d5-4c07-db4d-fac6aeec2f92"
      },
      "execution_count": null,
      "outputs": [
        {
          "output_type": "stream",
          "name": "stdout",
          "text": [
            "can you help me?\n"
          ]
        }
      ]
    },
    {
      "cell_type": "code",
      "source": [
        "myString = \"today is the best day ever! \"\n",
        "\n",
        "##This function makes the text uppercase.\n",
        "str2=myString.upper()\n",
        "print(str2)\n"
      ],
      "metadata": {
        "id": "cguplimaytP5",
        "colab": {
          "base_uri": "https://localhost:8080/"
        },
        "outputId": "6ab71925-2e5c-46e4-cf5d-507bb00640ce"
      },
      "execution_count": null,
      "outputs": [
        {
          "output_type": "stream",
          "name": "stdout",
          "text": [
            "TODAY IS THE BEST DAY EVER! \n"
          ]
        }
      ]
    },
    {
      "cell_type": "markdown",
      "source": [
        "# **Removing numbers**"
      ],
      "metadata": {
        "id": "kY0evcnT6lXK"
      }
    },
    {
      "cell_type": "code",
      "source": [
        "import re\n",
        "myString = ''\n",
        "\n",
        "## This function removes the numbers.\n",
        "output = re.sub(r'\\d+', \" \", myString) \n",
        "print(output)\n"
      ],
      "metadata": {
        "id": "hkYlutlSzyaG",
        "colab": {
          "base_uri": "https://localhost:8080/"
        },
        "outputId": "f8e203eb-ced6-4f9d-f3a9-bf1946c4720f"
      },
      "execution_count": null,
      "outputs": [
        {
          "output_type": "stream",
          "name": "stdout",
          "text": [
            "My friend owns   to   kittens, while I own   huge dogs.\n"
          ]
        }
      ]
    },
    {
      "cell_type": "markdown",
      "source": [
        "## **Removing punctuation**"
      ],
      "metadata": {
        "id": "iO96o7eu7k2M"
      }
    },
    {
      "cell_type": "code",
      "source": [
        "import string\n",
        "myString = \"This@ is! .really! &fun?!\"\n",
        "## This function removes punctuation\n",
        "output = myString.translate(str.maketrans(\"\",\"\", string.punctuation))\n",
        "print(output)\n"
      ],
      "metadata": {
        "id": "jyuhFax156Up",
        "colab": {
          "base_uri": "https://localhost:8080/"
        },
        "outputId": "d0ccaf97-ce51-488f-c74d-87e7d14426ba"
      },
      "execution_count": null,
      "outputs": [
        {
          "output_type": "stream",
          "name": "stdout",
          "text": [
            "This is really fun\n"
          ]
        }
      ]
    },
    {
      "cell_type": "markdown",
      "source": [
        "# **Removing the leading & ending whitespaces**"
      ],
      "metadata": {
        "id": "0I13eTeH7tsj"
      }
    },
    {
      "cell_type": "code",
      "source": [
        "import string\n",
        "myString = \"\\t i have dog\\t\"\n",
        "## This function removes the leading & ending whitespaces\n",
        "str=myString.strip()\n",
        "print(myString)\n",
        "\n"
      ],
      "metadata": {
        "id": "OHvo4zIH9KJf",
        "colab": {
          "base_uri": "https://localhost:8080/"
        },
        "outputId": "dcf9e1bf-18d7-4b33-ac5d-e87a22c275aa"
      },
      "execution_count": null,
      "outputs": [
        {
          "output_type": "stream",
          "name": "stdout",
          "text": [
            "\t i have dog\t\n"
          ]
        }
      ]
    },
    {
      "cell_type": "markdown",
      "source": [
        "## **Finding Synonyms & Antonyms**"
      ],
      "metadata": {
        "id": "aAGlIpoX94TZ"
      }
    },
    {
      "cell_type": "code",
      "source": [
        "from nltk.corpus import wordnet\n",
        "synonyms = []\n",
        "antonyms = []\n",
        "## This finds the synonyms & Antonyms of the word accommodate\n",
        "\n",
        "for s in wordnet.synsets(\"accommodate\"):\n",
        "  for lemm in s.lemmas():\n",
        "    synonyms.append(lemm.name())\n",
        "    if lemm.antonyms():\n",
        "      antonyms.append(lemm.antonyms()[0].name())\n",
        "\n",
        "      print(set(synonyms))\n",
        "      print(set(antonyms))\n"
      ],
      "metadata": {
        "id": "dkyF1s43seJQ",
        "colab": {
          "base_uri": "https://localhost:8080/"
        },
        "outputId": "35d97620-49d5-442f-b224-96f60bc602cb"
      },
      "execution_count": null,
      "outputs": [
        {
          "output_type": "stream",
          "name": "stdout",
          "text": [
            "{'suit', 'oblige', 'accommodate', 'fit', 'admit', 'lodge', 'hold', 'adapt'}\n",
            "{'disoblige'}\n"
          ]
        }
      ]
    },
    {
      "cell_type": "markdown",
      "source": [
        "# VADER Sentiment Analysis"
      ],
      "metadata": {
        "id": "MSKbURahHm1e"
      }
    },
    {
      "cell_type": "code",
      "source": [
        "##installation of VADER which stands for Valence Aware Dictionary and \n",
        "##sEntiment Reasoner. \n",
        "!pip install vaderSentiment"
      ],
      "metadata": {
        "id": "6EPxcnDaGnWX",
        "colab": {
          "base_uri": "https://localhost:8080/"
        },
        "outputId": "ef75468c-8557-4ad6-c7cf-0f483bb7acc4"
      },
      "execution_count": null,
      "outputs": [
        {
          "output_type": "stream",
          "name": "stdout",
          "text": [
            "Collecting vaderSentiment\n",
            "  Downloading vaderSentiment-3.3.2-py2.py3-none-any.whl (125 kB)\n",
            "\u001b[K     |████████████████████████████████| 125 kB 9.4 MB/s \n",
            "\u001b[?25hRequirement already satisfied: requests in /usr/local/lib/python3.7/dist-packages (from vaderSentiment) (2.23.0)\n",
            "Requirement already satisfied: chardet<4,>=3.0.2 in /usr/local/lib/python3.7/dist-packages (from requests->vaderSentiment) (3.0.4)\n",
            "Requirement already satisfied: idna<3,>=2.5 in /usr/local/lib/python3.7/dist-packages (from requests->vaderSentiment) (2.10)\n",
            "Requirement already satisfied: certifi>=2017.4.17 in /usr/local/lib/python3.7/dist-packages (from requests->vaderSentiment) (2021.10.8)\n",
            "Requirement already satisfied: urllib3!=1.25.0,!=1.25.1,<1.26,>=1.21.1 in /usr/local/lib/python3.7/dist-packages (from requests->vaderSentiment) (1.24.3)\n",
            "Installing collected packages: vaderSentiment\n",
            "Successfully installed vaderSentiment-3.3.2\n"
          ]
        }
      ]
    },
    {
      "cell_type": "code",
      "source": [
        " from vaderSentiment.vaderSentiment import SentimentIntensityAnalyzer\n",
        " analyser=SentimentIntensityAnalyzer()\n",
        " "
      ],
      "metadata": {
        "id": "EIwuvHeMGwfh"
      },
      "execution_count": null,
      "outputs": []
    },
    {
      "cell_type": "code",
      "source": [
        "sentences =[\n",
        "            \n",
        "            \"I love to eat new food\",\n",
        "            \"Horror movies are so scary\",\n",
        "            \"He punched her.\",\n",
        "            \"I swam at the pool today.\",\n",
        "            \"The dog is friends with the cat.\",\n",
        "]\n",
        "\n",
        "##polarity_score() method returns a float for the sentiment strength based on \n",
        "##the input sentence. It gives back a negtive or postive score if the sentence \n",
        "##has a positive or negative sentiment.\n",
        "\n",
        "for sentence in sentences:\n",
        "  score=analyser.polarity_scores(sentence)[\"compound\"]\n",
        "  print(f'The sentiment value of the sentence: \"{sentence}\" is: {score}')\n"
      ],
      "metadata": {
        "id": "S8nVHctUSyLw",
        "colab": {
          "base_uri": "https://localhost:8080/"
        },
        "outputId": "bf932240-bf2d-4d1f-9d67-d6449188c850"
      },
      "execution_count": null,
      "outputs": [
        {
          "output_type": "stream",
          "name": "stdout",
          "text": [
            "The sentiment value of the sentence: \"I love to eat new food\" is: 0.6369\n",
            "The sentiment value of the sentence: \"Horror movies are so scary\" is: -0.8323\n",
            "The sentiment value of the sentence: \"He punched her.\" is: 0.0\n",
            "The sentiment value of the sentence: \"I swam at the pool today.\" is: 0.0\n",
            "The sentiment value of the sentence: \"The dog is friends with the cat.\" is: 0.4767\n"
          ]
        }
      ]
    },
    {
      "cell_type": "code",
      "source": [
        "##CalculateS the percentage of each sentiment present in that sentence using \n",
        "##\"pos\", \"neu\" and \"neg\" keys after computing the polarity score.\n",
        "\n",
        "for sentence in sentences:\n",
        "    print(f'For the sentence \"{sentence}\"')\n",
        "    polarity = analyser.polarity_scores(sentence)\n",
        "    pos = polarity[\"pos\"]\n",
        "    neu = polarity[\"neu\"]\n",
        "    neg = polarity[\"neg\"]\n",
        "    print(f'The percententage of positive sentiment in :\"{sentence}\" is : {round(pos*100,2)} %')\n",
        "    print(f'The percententage of neutral sentiment in :\"{sentence}\" is : {round(neu*100,2)} %')\n",
        "    print(f'The percententage of negative sentiment in :\"{sentence}\" is : {round(neg*100,2)} %')\n",
        "    print(\"=\"*50)\n",
        "\n"
      ],
      "metadata": {
        "id": "8CQsjYtgUZgi",
        "colab": {
          "base_uri": "https://localhost:8080/"
        },
        "outputId": "3d500568-2c34-4b59-c146-cfd86c020805"
      },
      "execution_count": null,
      "outputs": [
        {
          "output_type": "stream",
          "name": "stdout",
          "text": [
            "For the sentence \"I love to eat new food\"\n",
            "The percententage of positive sentiment in :\"I love to eat new food\" is : 45.7 %\n",
            "The percententage of neutral sentiment in :\"I love to eat new food\" is : 54.3 %\n",
            "The percententage of negative sentiment in :\"I love to eat new food\" is : 0.0 %\n",
            "==================================================\n",
            "For the sentence \"Horror movies are so scary\"\n",
            "The percententage of positive sentiment in :\"Horror movies are so scary\" is : 0.0 %\n",
            "The percententage of neutral sentiment in :\"Horror movies are so scary\" is : 27.7 %\n",
            "The percententage of negative sentiment in :\"Horror movies are so scary\" is : 72.3 %\n",
            "==================================================\n",
            "For the sentence \"He punched her.\"\n",
            "The percententage of positive sentiment in :\"He punched her.\" is : 0.0 %\n",
            "The percententage of neutral sentiment in :\"He punched her.\" is : 100.0 %\n",
            "The percententage of negative sentiment in :\"He punched her.\" is : 0.0 %\n",
            "==================================================\n",
            "For the sentence \"I swam at the pool today.\"\n",
            "The percententage of positive sentiment in :\"I swam at the pool today.\" is : 0.0 %\n",
            "The percententage of neutral sentiment in :\"I swam at the pool today.\" is : 100.0 %\n",
            "The percententage of negative sentiment in :\"I swam at the pool today.\" is : 0.0 %\n",
            "==================================================\n",
            "For the sentence \"The dog is friends with the cat.\"\n",
            "The percententage of positive sentiment in :\"The dog is friends with the cat.\" is : 34.1 %\n",
            "The percententage of neutral sentiment in :\"The dog is friends with the cat.\" is : 65.9 %\n",
            "The percententage of negative sentiment in :\"The dog is friends with the cat.\" is : 0.0 %\n",
            "==================================================\n"
          ]
        }
      ]
    },
    {
      "cell_type": "markdown",
      "source": [
        "# Chatbot"
      ],
      "metadata": {
        "id": "eh8ZcdmLwp97"
      }
    },
    {
      "cell_type": "code",
      "source": [
        "##Chatterbot is a Python library that delievers a response in relation to\n",
        "##an input statemnet issued by the user or preditermined by the chatterbot\n",
        "##through past conversations.\n",
        "\n",
        "!pip install chatterbot\n",
        "!pip install chatterbot_corpus\n"
      ],
      "metadata": {
        "id": "tIgzkA2wws29",
        "colab": {
          "base_uri": "https://localhost:8080/"
        },
        "outputId": "3cc7b180-ec2d-419d-99fc-dacba3f7fce4"
      },
      "execution_count": null,
      "outputs": [
        {
          "output_type": "stream",
          "name": "stdout",
          "text": [
            "Collecting chatterbot\n",
            "  Downloading ChatterBot-1.0.8-py2.py3-none-any.whl (63 kB)\n",
            "\u001b[?25l\r\u001b[K     |█████▏                          | 10 kB 15.6 MB/s eta 0:00:01\r\u001b[K     |██████████▎                     | 20 kB 18.3 MB/s eta 0:00:01\r\u001b[K     |███████████████▌                | 30 kB 22.6 MB/s eta 0:00:01\r\u001b[K     |████████████████████▋           | 40 kB 17.8 MB/s eta 0:00:01\r\u001b[K     |█████████████████████████▊      | 51 kB 11.1 MB/s eta 0:00:01\r\u001b[K     |███████████████████████████████ | 61 kB 12.1 MB/s eta 0:00:01\r\u001b[K     |████████████████████████████████| 63 kB 1.5 MB/s \n",
            "\u001b[?25hRequirement already satisfied: python-dateutil<2.9,>=2.8 in /usr/local/lib/python3.7/dist-packages (from chatterbot) (2.8.2)\n",
            "Collecting mathparse<0.2,>=0.1\n",
            "  Downloading mathparse-0.1.2-py3-none-any.whl (7.2 kB)\n",
            "Requirement already satisfied: pytz in /usr/local/lib/python3.7/dist-packages (from chatterbot) (2018.9)\n",
            "Collecting sqlalchemy<1.4,>=1.3\n",
            "  Downloading SQLAlchemy-1.3.24-cp37-cp37m-manylinux2010_x86_64.whl (1.3 MB)\n",
            "\u001b[K     |████████████████████████████████| 1.3 MB 20.8 MB/s \n",
            "\u001b[?25hRequirement already satisfied: six>=1.5 in /usr/local/lib/python3.7/dist-packages (from python-dateutil<2.9,>=2.8->chatterbot) (1.15.0)\n",
            "Installing collected packages: sqlalchemy, mathparse, chatterbot\n",
            "  Attempting uninstall: sqlalchemy\n",
            "    Found existing installation: SQLAlchemy 1.4.31\n",
            "    Uninstalling SQLAlchemy-1.4.31:\n",
            "      Successfully uninstalled SQLAlchemy-1.4.31\n",
            "Successfully installed chatterbot-1.0.8 mathparse-0.1.2 sqlalchemy-1.3.24\n",
            "Collecting chatterbot_corpus\n",
            "  Downloading chatterbot_corpus-1.2.0-py2.py3-none-any.whl (117 kB)\n",
            "\u001b[K     |████████████████████████████████| 117 kB 10.4 MB/s \n",
            "\u001b[?25hRequirement already satisfied: PyYAML<4.0,>=3.12 in /usr/local/lib/python3.7/dist-packages (from chatterbot_corpus) (3.13)\n",
            "Installing collected packages: chatterbot-corpus\n",
            "Successfully installed chatterbot-corpus-1.2.0\n"
          ]
        }
      ]
    },
    {
      "cell_type": "code",
      "source": [
        "!pip install --upgrade chatterbot_corpus\n",
        "!pip install --upgrade chatterbot\n"
      ],
      "metadata": {
        "id": "c0tszLJ5xUoe",
        "colab": {
          "base_uri": "https://localhost:8080/"
        },
        "outputId": "2f10faea-ebc0-4fbd-9328-7d0c7d9242dc"
      },
      "execution_count": null,
      "outputs": [
        {
          "output_type": "stream",
          "name": "stdout",
          "text": [
            "Requirement already satisfied: chatterbot_corpus in /usr/local/lib/python3.7/dist-packages (1.2.0)\n",
            "Requirement already satisfied: PyYAML<4.0,>=3.12 in /usr/local/lib/python3.7/dist-packages (from chatterbot_corpus) (3.13)\n",
            "Requirement already satisfied: chatterbot in /usr/local/lib/python3.7/dist-packages (1.0.8)\n",
            "Requirement already satisfied: mathparse<0.2,>=0.1 in /usr/local/lib/python3.7/dist-packages (from chatterbot) (0.1.2)\n",
            "Requirement already satisfied: pytz in /usr/local/lib/python3.7/dist-packages (from chatterbot) (2018.9)\n",
            "Requirement already satisfied: python-dateutil<2.9,>=2.8 in /usr/local/lib/python3.7/dist-packages (from chatterbot) (2.8.2)\n",
            "Requirement already satisfied: sqlalchemy<1.4,>=1.3 in /usr/local/lib/python3.7/dist-packages (from chatterbot) (1.3.24)\n",
            "Requirement already satisfied: six>=1.5 in /usr/local/lib/python3.7/dist-packages (from python-dateutil<2.9,>=2.8->chatterbot) (1.15.0)\n"
          ]
        }
      ]
    },
    {
      "cell_type": "code",
      "source": [
        "from chatterbot import ChatBot\n",
        "from chatterbot.trainers import ListTrainer\n"
      ],
      "metadata": {
        "id": "8fr55-_6xsRD"
      },
      "execution_count": null,
      "outputs": []
    },
    {
      "cell_type": "code",
      "source": [
        "my_bot=ChatBot(name='pybot', read_only=True, logic_adapters=['chatterbot.logic.MathematicalEvaluation', 'chatterbot.logic.BestMatch'])\n"
      ],
      "metadata": {
        "id": "DihxLCLKx3DG"
      },
      "execution_count": null,
      "outputs": []
    },
    {
      "cell_type": "code",
      "source": [
        "##sample conversations \n",
        "\n",
        "\n",
        "convo_1=['hello!',\n",
        "         'hi!',\n",
        "         'what kind of music do you like?',\n",
        "         'pop music',\n",
        "         'cool! I like rock music',\n",
        "         'Have you gone to a concert before?',\n",
        "         'yes, I have',\n",
        "         'how many concerts have you been to?',\n",
        "         '5 concerts',\n",
        "         'awesome']\n",
        "\n",
        "convo_2=['do you like school?',\n",
        "         'yes, i do. what about you?',\n",
        "         'i don\\'t really enjoy school,'\n",
        "         'do you have a favorite subject?',\n",
        "         'i like history, you?',\n",
        "         'i like math',\n",
        "         'thats cool. not many people like math',\n",
        "         'yeah, i prefer calculus over stats'\n",
        "         'it was nice talking to you. hope to talk to you again',\n",
        "         'likewise']\n",
        "\n",
        "convo_3=['hello! what is yout name?',\n",
        "         'my name is mike! whats yours?',\n",
        "         'my name is avery',\n",
        "         'what job do you have?',\n",
        "         'I work as a data analyst',\n",
        "         'intersting. i work as a dentist',\n",
        "         'awesome. you must have strong teeth',\n",
        "         'i do hope so haha.',\n",
        "         'well, have a nice day'\n",
        "         'have a nice day as well!']\n",
        "\n",
        "convo_4=['Nice weather, isnt it?',\n",
        "         'yeah, its super sunny',\n",
        "         'do you have a season you dislike?',\n",
        "         'i dont like the winter',\n",
        "         'oh same. its my least favorite season',\n",
        "         'do you have any activities you like to do during the summer? ',\n",
        "         'i enjoy going to the beach',\n",
        "         'oh that sounds nice. i like to eat a lot of ice cream',\n",
        "         'sound yummy'\n",
        "         'talk to you later!']\n",
        "\n",
        "\n"
      ],
      "metadata": {
        "id": "k05C2XEcZYvq"
      },
      "execution_count": null,
      "outputs": []
    },
    {
      "cell_type": "code",
      "source": [
        "##Trains the chatterbot on how to respond.\n",
        "\n",
        "list_trainer=ListTrainer(my_bot)\n",
        "for item in (convo_1, convo_2, convo_3, convo_4):\n",
        "    list_trainer.train(item)"
      ],
      "metadata": {
        "colab": {
          "base_uri": "https://localhost:8080/"
        },
        "id": "y_QKI3ZcExQ4",
        "outputId": "5d892d23-d69c-4519-ad13-c766c775a72b"
      },
      "execution_count": null,
      "outputs": [
        {
          "output_type": "stream",
          "name": "stdout",
          "text": [
            "List Trainer: [####################] 100%\n",
            "List Trainer: [####################] 100%\n",
            "List Trainer: [####################] 100%\n",
            "List Trainer: [####################] 100%\n"
          ]
        }
      ]
    },
    {
      "cell_type": "code",
      "source": [
        "##Prints out statements in respons to the statements in the parentheses.\n",
        "print(my_bot.get_response(\"hello!\"))\n",
        "print(my_bot.get_response(\"do you like school?\"))\n",
        "print(my_bot.get_response(\"i like history, you?\"))\n",
        "print(my_bot.get_response(\"what job do you have?\"))\n",
        "print(my_bot.get_response(\"i enjoy going to the beach\"))\n",
        "\n"
      ],
      "metadata": {
        "colab": {
          "base_uri": "https://localhost:8080/"
        },
        "id": "ctV-rmeMH3iH",
        "outputId": "2ad25d0a-da28-4f73-ef8f-4362bf589e2e"
      },
      "execution_count": null,
      "outputs": [
        {
          "output_type": "stream",
          "name": "stdout",
          "text": [
            "hi!\n",
            "yes, i do. what about you?\n",
            "i like math\n",
            "I work as a data analyst\n",
            "oh that sounds nice. i like to eat a lot of ice crea,\n"
          ]
        }
      ]
    },
    {
      "cell_type": "markdown",
      "source": [
        "# WordCloud"
      ],
      "metadata": {
        "id": "WV-XGq_ZMNAT"
      }
    },
    {
      "cell_type": "code",
      "source": [
        "# importing the necessary modules:\n",
        "import PIL     #adds many image processing features to Python\n",
        "import numpy as np  #open-source library for the Python \n",
        "import pandas as pd   #pndas data analysis library\n",
        "\n",
        "#visual presentation of a text document \n",
        "from wordcloud import WordCloud, STOPWORDS, ImageColorGenerator \n",
        "\n",
        "\n",
        "import matplotlib.pyplot as plt    \n",
        "from PIL import Image"
      ],
      "metadata": {
        "id": "XluGLSnpMQSC"
      },
      "execution_count": null,
      "outputs": []
    },
    {
      "cell_type": "code",
      "source": [
        "##reads a text file\n",
        "mydata=open(\"industry.txt\", \"r\").read()\n",
        "\n",
        "##lower max_font_size, change the maximum number of word, change background \n",
        "##color, change contour width, and change height\n",
        "wordcloud=WordCloud(background_color=\"white\", max_words=100, max_font_size=30, contour_width=4, height=500).generate(mydata)\n",
        "\n",
        "plt.imshow(wordcloud, interpolation='bilinear')\n",
        "plt.axis(\"off\")\n",
        "plt.show()"
      ],
      "metadata": {
        "id": "Bm9naKuCNCtI",
        "colab": {
          "base_uri": "https://localhost:8080/",
          "height": 248
        },
        "outputId": "edd15b00-4aea-48a6-a9bc-866c84db45c9"
      },
      "execution_count": null,
      "outputs": [
        {
          "output_type": "display_data",
          "data": {
            "image/png": "[encoded data removed]",
            "text/plain": [
              "<Figure size 432x288 with 1 Axes>"
            ]
          },
          "metadata": {
            "needs_background": "light"
          }
        }
      ]
    },
    {
      "cell_type": "code",
      "source": [
        "##reads a text file \n",
        "mydata=open(\"languages.txt\", \"r\").read()\n",
        "\n",
        "##lower max_font_size, change the maximum number of word, change background\n",
        "##color, change contour width, and change height\n",
        "wordcloud=WordCloud(background_color=\"purple\", max_words=10, max_font_size=50, contour_width=10, height=250).generate(mydata)\n",
        "\n",
        "plt.imshow(wordcloud, interpolation='bilinear')\n",
        "plt.axis(\"off\")\n",
        "plt.show()"
      ],
      "metadata": {
        "id": "tkQgYeEqNvUR",
        "colab": {
          "base_uri": "https://localhost:8080/",
          "height": 240
        },
        "outputId": "b873f259-2037-4e51-e0b9-6193182edc6a"
      },
      "execution_count": null,
      "outputs": [
        {
          "output_type": "display_data",
          "data": {
            "image/png": "[encoded data removed]",
            "text/plain": [
              "<Figure size 432x288 with 1 Axes>"
            ]
          },
          "metadata": {
            "needs_background": "light"
          }
        }
      ]
    },
    {
      "cell_type": "code",
      "source": [
        "##reads a text file \n",
        "mydata=open(\"birthplace.txt\", \"r\").read()\n",
        "\n",
        "##lower max_font_size, change the maximum number of word, change background \n",
        "##color, change contour width, and change height\n",
        "wordcloud=WordCloud(background_color=\"red\", max_words=18, max_font_size=80, contour_width=20, height=100).generate(mydata)\n",
        "\n",
        "plt.imshow(wordcloud, interpolation='bilinear')\n",
        "plt.axis(\"off\")\n",
        "plt.show()"
      ],
      "metadata": {
        "id": "2YxRB3ZXtK0S",
        "outputId": "afe18b92-4f38-4755-b6bf-d4ebc4b5a93e",
        "colab": {
          "base_uri": "https://localhost:8080/",
          "height": 115
        }
      },
      "execution_count": null,
      "outputs": [
        {
          "output_type": "display_data",
          "data": {
            "image/png": "[encoded data removed]",
            "text/plain": [
              "<Figure size 432x288 with 1 Axes>"
            ]
          },
          "metadata": {
            "needs_background": "light"
          }
        }
      ]
    }
  ]
}